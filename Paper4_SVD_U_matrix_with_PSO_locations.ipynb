{
  "cells": [
    {
      "cell_type": "markdown",
      "metadata": {
        "id": "view-in-github",
        "colab_type": "text"
      },
      "source": [
        "<a href=\"https://colab.research.google.com/github/bibekghosh2019/opencv/blob/master/Paper4_SVD_U_matrix_with_PSO_locations.ipynb\" target=\"_parent\"><img src=\"https://colab.research.google.com/assets/colab-badge.svg\" alt=\"Open In Colab\"/></a>"
      ]
    },
    {
      "cell_type": "markdown",
      "id": "bfc9765d",
      "metadata": {
        "id": "bfc9765d"
      },
      "source": [
        "# Paper4 using U matrix embedding with PSO defined locations"
      ]
    },
    {
      "cell_type": "code",
      "execution_count": 1,
      "id": "0591c6dc",
      "metadata": {
        "id": "0591c6dc"
      },
      "outputs": [],
      "source": [
        "import matplotlib.pyplot as plt\n",
        "import cv2\n",
        "import numpy as np\n",
        "import math\n",
        "%matplotlib inline\n",
        "from skimage.metrics import structural_similarity\n",
        "#Calculate skewness & kurtosis\n",
        "from scipy.stats import skew, kurtosis\n",
        "from matplotlib import rcParams\n",
        "from math import log10, sqrt\n",
        "import seaborn as sns\n",
        "import pandas as pd\n",
        "from PIL import Image\n",
        "import os\n",
        "import random\n",
        "import math\n",
        "from skimage import io, img_as_float\n",
        "from skimage.util import random_noise\n",
        "from skimage.measure import  shannon_entropy\n",
        "from skimage.feature import graycomatrix, graycoprops\n",
        "from scipy.ndimage import median_filter,gaussian_filter,uniform_filter\n",
        "from skimage.util import view_as_blocks"
      ]
    },
    {
      "cell_type": "markdown",
      "id": "04c04c38",
      "metadata": {
        "id": "04c04c38"
      },
      "source": [
        "# Utilities"
      ]
    },
    {
      "cell_type": "code",
      "execution_count": 2,
      "id": "d9f16044",
      "metadata": {
        "id": "d9f16044"
      },
      "outputs": [],
      "source": [
        "#list to string conversion\n",
        "def listtostr(x):\n",
        "    y=''.join(x)\n",
        "    return y\n",
        "def int_to_bin8(decimal):\n",
        "    \"\"\"\n",
        "    Convert an integer tuple to a binary (string) tuple.\n",
        "    :param rgb: An integer tuple (e.g. (220, 110, 96))\n",
        "    :return: A string tuple (e.g. (\"00101010\", \"11101011\", \"00010110\"))\n",
        "    \"\"\"\n",
        "    return ('{0:08b}'.format(decimal))\n",
        "def bin_to_int(binary):\n",
        "    \"\"\"\n",
        "    Convert a binary (string) tuple to an integer tuple.\n",
        "    :param rgb: A string tuple (e.g. (\"00101010\", \"11101011\", \"00010110\"))\n",
        "    :return: Return an int tuple (e.g. (220, 110, 96))\n",
        "    \"\"\"\n",
        "    return (int(binary, 2))\n",
        "def int_to_bin32(decimal):\n",
        "    \"\"\"\n",
        "    Convert an integer tuple to a binary (string) tuple.\n",
        "    :param rgb: An integer tuple (e.g. (220, 110, 96))\n",
        "    :return: A string tuple (e.g. (\"00101010\", \"11101011\", \"00010110\"))    \"\"\"\n",
        "    return ('{0:032b}'.format(decimal))"
      ]
    },
    {
      "cell_type": "code",
      "execution_count": 3,
      "id": "f9bc66bf",
      "metadata": {
        "id": "f9bc66bf"
      },
      "outputs": [],
      "source": [
        "def normalized_cross_correlation(img1, img2):\n",
        "    # Ensure the images are of the same size\n",
        "    if img1.shape != img2.shape:\n",
        "        raise ValueError(\"Both images must have the same dimensions\")\n",
        "\n",
        "    # Flatten the images to 1D arrays\n",
        "    img1_flattened = img1.flatten().astype(np.float32)\n",
        "    img2_flattened = img2.flatten().astype(np.float32)\n",
        "\n",
        "    # Subtract mean from images\n",
        "    img1_normalized = img1_flattened - np.mean(img1_flattened)\n",
        "    img2_normalized = img2_flattened - np.mean(img2_flattened)\n",
        "\n",
        "    # Calculate the normalized cross-correlation\n",
        "    numerator = np.sum(img1_normalized * img2_normalized)\n",
        "    denominator = np.sqrt(np.sum(img1_normalized ** 2) * np.sum(img2_normalized ** 2))\n",
        "\n",
        "    if denominator == 0:\n",
        "        return 0  # Avoid division by zero\n",
        "\n",
        "    ncc = numerator / denominator\n",
        "    return ncc"
      ]
    },
    {
      "cell_type": "code",
      "execution_count": 4,
      "id": "fad511e3",
      "metadata": {
        "id": "fad511e3"
      },
      "outputs": [],
      "source": [
        "def mse_psnr(a,b):\n",
        "    #returns mse and psnr between two numpy arrays\n",
        "    a=a.astype('float64')\n",
        "    b=b.astype('float64')\n",
        "    rows,cols=a.shape\n",
        "    a=a.ravel()\n",
        "    b=b.ravel()\n",
        "    mse=0\n",
        "    i=0\n",
        "    for i in range(rows*cols):\n",
        "        mse=mse+math.pow((a[i]-b[i]),2)\n",
        "    mse=mse/(rows*cols)\n",
        "    if mse==0:\n",
        "        return mse,-999\n",
        "    else:\n",
        "        psnr=20 * log10(255.0/ math.sqrt(mse))\n",
        "    return mse,psnr\n",
        "def norm_data(data):\n",
        "    mean_data=np.mean(data)\n",
        "    std_data=np.std(data,ddof=1)\n",
        "    return (data-mean_data)/(std_data)\n",
        "def calculate_ncc(data0,data1):\n",
        "    c=(1.0/(data0.size-1))*np.sum(norm_data(data0)*norm_data(data1))\n",
        "    return c\n",
        "def calculate_npcr(image1, image2):\n",
        "    # Convert images to numpy arrays\n",
        "    img1_array = np.array(image1)\n",
        "    img2_array = np.array(image2)\n",
        "\n",
        "    # Check if images have the same shape\n",
        "    if img1_array.shape != img2_array.shape:\n",
        "        raise ValueError(\"Images must have the same dimensions\")\n",
        "    # Calculate the difference matrix\n",
        "    diff = img1_array != img2_array\n",
        "    # Count the number of differing pixels\n",
        "    num_diff_pixels = np.sum(diff)\n",
        "    # Total number of pixels\n",
        "    total_pixels = img1_array.size\n",
        "    # Calculate NPCR\n",
        "    npcr = (num_diff_pixels / total_pixels) * 100\n",
        "    return npcr\n",
        "def calculate_uaci(image1, image2):\n",
        "    # Convert images to numpy arrays\n",
        "    img1_array = np.array(image1, dtype=np.float32)\n",
        "    img2_array = np.array(image2, dtype=np.float32)\n",
        "    # Check if images have the same shape\n",
        "    if img1_array.shape != img2_array.shape:\n",
        "        raise ValueError(\"Images must have the same dimensions\")\n",
        "   # Calculate UACI\n",
        "    diff_intensity = np.abs(img1_array - img2_array)  # Absolute difference\n",
        "    uaci = np.mean(diff_intensity / 255) * 100  # Normalize and average\n",
        "    return uaci\n",
        "def image_to_bitstream(image):\n",
        "    image_array = np.array(image)\n",
        "    # Flatten the array to 1D\n",
        "    flat_pixels = image_array.flatten()\n",
        "    # Convert each pixel value to its binary representation and concatenate bits\n",
        "    bitstream = ''.join([f'{pixel:08b}' for pixel in flat_pixels])  # 8-bit binary for grayscale\n",
        "    return bitstream\n",
        "def calculate_ber(im1,im2):\n",
        "    \"\"\"\n",
        "    Calculate Bit Error Rate (BER) between two bit streams.\n",
        "    :param bitstream1: First bit stream (string of '0's and '1's)\n",
        "    :param bitstream2: Second bit stream (string of '0's and '1's)\n",
        "    :return: Bit Error Rate (BER)    \"\"\"\n",
        "    bitstream1=image_to_bitstream(im1)\n",
        "    bitstream2=image_to_bitstream(im2)\n",
        "    # Ensure both bitstreams are the same length\n",
        "    if len(bitstream1) != len(bitstream2):\n",
        "        raise ValueError(\"Bitstreams must be of the same length\")\n",
        "    # Calculate the number of differing bits\n",
        "    errors = sum(b1 != b2 for b1, b2 in zip(bitstream1, bitstream2))\n",
        "    # Calculate BER\n",
        "    ber = errors / len(bitstream1)\n",
        "    return ber"
      ]
    },
    {
      "cell_type": "markdown",
      "id": "8c7da97a",
      "metadata": {
        "id": "8c7da97a"
      },
      "source": [
        "# Section-1 )       Watermark Attack Code"
      ]
    },
    {
      "cell_type": "code",
      "execution_count": 5,
      "id": "e5ce7a24",
      "metadata": {
        "id": "e5ce7a24"
      },
      "outputs": [],
      "source": [
        "def add_salt_and_pepper_noise(image, salt_prob, pepper_prob):\n",
        "    #noisy_image=\n",
        "    noisy_image = np.copy(image)\n",
        "    height, width = image.shape\n",
        "    salt_pixels = np.random.rand(height, width) < salt_prob\n",
        "    pepper_pixels = np.random.rand(height, width) < pepper_prob\n",
        "    noisy_image[salt_pixels] = 255  # Maximum intensity value (salt)\n",
        "    noisy_image[pepper_pixels] = 0   # Minimum intensity value (pepper)\n",
        "    noisy_image=noisy_image #.astype('uint8')\n",
        "    return noisy_image\n",
        "def salt_pepper_noise(img,density):\n",
        "    noise_img = random_noise(img, mode='s&p',amount=density)\n",
        "    # The above function returns a floating-point image\n",
        "    # on the range [0, 1], thus we changed it to 'uint8'\n",
        "    # and from [0,255]\n",
        "    noise_img = np.array(255*noise_img, dtype = 'uint8')\n",
        "    return noise_img\n",
        "def gaussian_noise(img,mu,sigma):\n",
        "    gauss = np.random.normal(mu,sigma,img.size)\n",
        "    gauss = gauss.reshape(img.shape[0],img.shape[1]).astype(np.float64)\n",
        "    # Add the Gaussian noise to the image\n",
        "    img_gauss = cv2.add(img.astype(np.float64),gauss)\n",
        "    return img_gauss\n",
        "def gau_noise(img,mu,sigma):\n",
        "    noise = np.random.normal(mu, sigma, img.shape).astype(np.float64)\n",
        "    # Add the noise to the image\n",
        "    noisy_image = img.astype(np.float64) + noise\n",
        "    # Clip the pixel values to be in the range [0, 255]\n",
        "    noisy_image = np.clip(noisy_image, 0, 255).astype('uint8')\n",
        "    return noisy_image\n",
        "def speckle_noise(img,mean,sigma):\n",
        "    gauss = np.random.normal(mean,sigma,img.size)\n",
        "    gauss = gauss.reshape(img.shape[0],img.shape[1]).astype(np.float64)\n",
        "    img=img.astype(np.float64)\n",
        "    speckle_noise = img + img * gauss\n",
        "    return speckle_noise\n",
        "def spec_noise(image,mean,sigma):\n",
        "    # Generate speckle noise\n",
        "    noise = np.random.normal(mean, sigma, image.shape).astype(np.float32)\n",
        "    # Add the speckle noise to the image\n",
        "    noisy_image = image.astype(np.float32) + image.astype(np.float32) * noise\n",
        "    # Clip the pixel values to be in the range [0, 255]\n",
        "    noisy_image = np.clip(noisy_image, 0, 255).astype(np.uint8)\n",
        "    return noisy_image\n",
        "def uniform_noise(img,density):\n",
        "    uni_noise=np.random.uniform(0,255,img.shape)\n",
        "    uni_noise=(uni_noise*density)\n",
        "    img=img.astype(np.float64)\n",
        "    uni_noise=uni_noise.astype(np.float64)\n",
        "    un_img=cv2.add(img,uni_noise)\n",
        "    return un_img\n",
        "def center_crop(img,d):\n",
        "    new=img.copy()\n",
        "    x,y=img.shape\n",
        "    x1=(x-d)//2\n",
        "    y1=(y-d)//2\n",
        "    new[y1:y1+d,x1:x1+d]=255\n",
        "    return new\n",
        "def side_crop_leftup(img,d):\n",
        "    new=img.copy()\n",
        "    x,y=img.shape\n",
        "    new[0:d,0:d]=255\n",
        "    return new\n",
        "def side_crop_rightup(img,d):\n",
        "    new=img.copy()\n",
        "    x,y=img.shape\n",
        "    new[0:d,512-d:]=255\n",
        "    return new\n",
        "def side_crop_leftbot(img,d):\n",
        "    new=img.copy()\n",
        "    x,y=img.shape\n",
        "    new[512-d:,0:d]=255\n",
        "    return new\n",
        "def side_crop_rightbot(img,d):\n",
        "    new=img.copy()\n",
        "    x,y=img.shape\n",
        "    new[512-d:,512-d:]=255\n",
        "    return new\n",
        "def alter_crop_hor(img,width):\n",
        "    cropped=img.copy()\n",
        "    itr=cropped.shape[0]//width\n",
        "    print(itr)\n",
        "    for i in range(itr):\n",
        "        m=i*width\n",
        "        if i%2!=0:\n",
        "            cropped[m:m+width,:]=255\n",
        "    return cropped\n",
        "def alter_crop_ver(img,width):\n",
        "    cropped=img.copy()\n",
        "    itr=cropped.shape[1]//width\n",
        "    print(itr)\n",
        "    for i in range(itr):\n",
        "        m=i*width\n",
        "        if i%2!=0:\n",
        "            cropped[:,m:m+width]=255\n",
        "    return cropped\n",
        "def average_filter(image, kernel_size):\n",
        "    # Apply average filtering\n",
        "    blurred_image = cv2.blur(image, kernel_size)\n",
        "    return blurred_image\n",
        "def sharpen_image(image):\n",
        "# Define the sharpening kernel\n",
        "    kernel = np.array([[0, -1, 0],\n",
        "                        [-1, 5, -1],\n",
        "                        [0, -1, 0]],dtype=np.float64)\n",
        "    # Apply the kernel to the image\n",
        "    sharpened_image = cv2.filter2D(image, -1, kernel)\n",
        "    return sharpened_image\n",
        "def translate_image(image, tx, ty):\n",
        "    \"\"\"\n",
        "    Applies a translation attack by shifting the image by (tx, ty) pixels.\n",
        "\n",
        "    Args:\n",
        "        image: Input image (numpy array).\n",
        "        tx: Shift in x-direction (horizontal).\n",
        "        ty: Shift in y-direction (vertical).\n",
        "\n",
        "    Returns:\n",
        "        Translated image.\n",
        "    \"\"\"\n",
        "    h, w = image.shape[:2]  # Get image dimensions\n",
        "    translation_matrix = np.float64([[1, 0, tx], [0, 1, ty]])  # Translation matrix\n",
        "    translated_image = cv2.warpAffine(image, translation_matrix, (w, h))\n",
        "    return translated_image\n",
        "def rotate_image_expand(image, angle):\n",
        "    \"\"\" Rotates an image without cutting off corners by expanding the canvas \"\"\"\n",
        "    h, w = image.shape\n",
        "\n",
        "    # Compute diagonal length to determine new image size\n",
        "    diagonal = int(np.sqrt(h**2 + w**2))\n",
        "\n",
        "    # Add padding to ensure no information is lost\n",
        "    padded_image = cv2.copyMakeBorder(image, (diagonal-h)//2, (diagonal-h)//2,\n",
        "                                      (diagonal-w)//2, (diagonal-w)//2, cv2.BORDER_CONSTANT, value=0)\n",
        "\n",
        "    # Rotate with center at new padded image size\n",
        "    new_h, new_w = padded_image.shape\n",
        "    matrix = cv2.getRotationMatrix2D((new_w//2, new_h//2), angle, 1)\n",
        "    rotated = cv2.warpAffine(padded_image, matrix, (new_w, new_h))\n",
        "\n",
        "    # Crop back to original size\n",
        "    start_x, start_y = (new_w - w) // 2, (new_h - h) // 2\n",
        "    cropped_rotated = rotated[start_y:start_y+h, start_x:start_x+w]\n",
        "    return rotated,cropped_rotated\n",
        "\n",
        "def inpaint_black_corners(image, mask_threshold=10):\n",
        "    \"\"\" Detects black corners and fills them using inpainting \"\"\"\n",
        "    mask = (image <= mask_threshold).astype(np.uint8) * 255  # Create mask for black areas\n",
        "    inpainted = cv2.inpaint(image, mask, inpaintRadius=5, flags=cv2.INPAINT_TELEA)\n",
        "    return inpainted\n",
        "\n",
        "def auto_crop(image):\n",
        "    \"\"\" Automatically crops the largest non-black rectangle after rotation \"\"\"\n",
        "    # Convert to grayscale and find contours\n",
        "    gray = cv2.threshold(image, 1, 255, cv2.THRESH_BINARY)[1]\n",
        "    contours, _ = cv2.findContours(gray, cv2.RETR_EXTERNAL, cv2.CHAIN_APPROX_SIMPLE)\n",
        "\n",
        "    # Find bounding box for the largest contour\n",
        "    x, y, w, h = cv2.boundingRect(contours[0])\n",
        "    cropped = image[y:y+h, x:x+w]\n",
        "    return cropped\n",
        "def apply_motion_blur(image, kernel_size=15, angle=0):\n",
        "    \"\"\"\n",
        "    Applies motion blur to an image.\n",
        "\n",
        "    Parameters:\n",
        "    - image: Input image (watermarked image).\n",
        "    - kernel_size: Size of the motion blur kernel.\n",
        "    - angle: Angle of motion blur (0 = horizontal, 90 = vertical).\n",
        "\n",
        "    Returns:\n",
        "    - Blurred image.\n",
        "    \"\"\"\n",
        "    # Create a motion blur kernel\n",
        "    kernel = np.zeros((kernel_size, kernel_size))\n",
        "    kernel[int((kernel_size - 1) / 2), :] = np.ones(kernel_size)\n",
        "    kernel = cv2.warpAffine(kernel, cv2.getRotationMatrix2D((kernel_size / 2 - 0.5, kernel_size / 2 - 0.5), angle, 1), (kernel_size, kernel_size))\n",
        "    kernel /= kernel_size  # Normalize kernel\n",
        "\n",
        "    # Apply the motion blur filter\n",
        "    blurred = cv2.filter2D(image, -1, kernel)\n",
        "\n",
        "    return blurred"
      ]
    },
    {
      "cell_type": "markdown",
      "id": "886c0d6c",
      "metadata": {
        "id": "886c0d6c"
      },
      "source": [
        "# Section 1a) Image to blocks and reverse"
      ]
    },
    {
      "cell_type": "code",
      "execution_count": 6,
      "id": "b283c6c3",
      "metadata": {
        "id": "b283c6c3"
      },
      "outputs": [],
      "source": [
        "# Converts an image to blocks of size bsizexbsize. Image size should be multiple of block size\n",
        "def image_blocks(im,bsize):\n",
        "    rows=im.shape[0]\n",
        "    cols=im.shape[1]\n",
        "    #print(\"Image size \",rows,cols)\n",
        "    blocks=[]\n",
        "    hd=rows//bsize\n",
        "    vd=cols//bsize\n",
        "    #print(\"blocks \",hd,vd)\n",
        "    for i in range(0,rows,bsize):\n",
        "        for j in range(0,cols,bsize):\n",
        "            blk=np.zeros((bsize,bsize))#,'uint8')\n",
        "            blk=im[i:i+bsize,j:j+bsize]\n",
        "            blocks.append(blk)\n",
        "    return blocks\n",
        "def blocks_image(blocks):\n",
        "    bsize=blocks[0].shape[0]\n",
        "    #print(len(blocks))\n",
        "    cols=rows=int(math.sqrt(len(blocks)))*bsize\n",
        "    #print(rows,cols)\n",
        "    newim=np.zeros((rows,cols))#,'uint8')\n",
        "    k=0\n",
        "    for i in range(0,rows,bsize):\n",
        "        for j in range(0,cols,bsize):\n",
        "            newim[i:i+bsize,j:j+bsize]=blocks[k]\n",
        "            k+=1\n",
        "    return newim"
      ]
    },
    {
      "cell_type": "markdown",
      "id": "7b09f630",
      "metadata": {
        "id": "7b09f630"
      },
      "source": [
        "# SVD"
      ]
    },
    {
      "cell_type": "code",
      "execution_count": 7,
      "id": "5cfffd47",
      "metadata": {
        "colab": {
          "base_uri": "https://localhost:8080/"
        },
        "id": "5cfffd47",
        "outputId": "2e7c0652-954a-4f8b-904f-0f69dc93f3c0"
      },
      "outputs": [
        {
          "output_type": "stream",
          "name": "stdout",
          "text": [
            "[[ 7. 22.  6.  2.]\n",
            " [13.  6. 10.  3.]\n",
            " [ 3.  7.  9.  2.]\n",
            " [ 3.  2.  2.  1.]]\n"
          ]
        }
      ],
      "source": [
        "arr = np.array([[7,22,6,2],[13,6,10,3],[3,7,9,2],[3,2,2,1]])\n",
        "U,D,VT=np.linalg.svd(arr)\n",
        "rank = D.size\n",
        "B = U[:, :rank] @ np.diag(D) @ VT[:rank, :]\n",
        "print(B)"
      ]
    },
    {
      "cell_type": "markdown",
      "id": "5fd67a7d",
      "metadata": {
        "id": "5fd67a7d"
      },
      "source": [
        "# Section-2 )  Image to bits and reverse"
      ]
    },
    {
      "cell_type": "code",
      "execution_count": 8,
      "id": "90376e36",
      "metadata": {
        "id": "90376e36"
      },
      "outputs": [],
      "source": [
        "#Data is converted to bits\n",
        "def image_to_bits(image):\n",
        "    #r,c=image.shape\n",
        "    flat_data=image.flatten()\n",
        "    msg=''\n",
        "    for x in flat_data:\n",
        "        msg=msg+int_to_bin8(x)\n",
        "    return msg\n",
        "#Image Construction from bits\n",
        "def bits_to_image(msg,r,c):\n",
        "    l=len(msg)\n",
        "    msg_im=[]\n",
        "    pos=0\n",
        "    #print(r,c)\n",
        "    while pos<l:\n",
        "        msg_im.append(bin_to_int(msg[pos:pos+8]))\n",
        "        pos=pos+8\n",
        "    msg_im=np.reshape(msg_im,(r,c))\n",
        "    msg_im=msg_im.astype('uint8')\n",
        "    #print(msg_im.shape)\n",
        "    return msg_im"
      ]
    },
    {
      "cell_type": "markdown",
      "id": "88b9f200",
      "metadata": {
        "id": "88b9f200"
      },
      "source": [
        "# Section-3) Randamization Methods"
      ]
    },
    {
      "cell_type": "markdown",
      "id": "a75bb3e4",
      "metadata": {
        "id": "a75bb3e4"
      },
      "source": [
        "# a) Arnold Cat Map for Watermark scrambling"
      ]
    },
    {
      "cell_type": "code",
      "execution_count": 9,
      "id": "700b6cba",
      "metadata": {
        "id": "700b6cba"
      },
      "outputs": [],
      "source": [
        "def arnoldmap(x,y,N):\n",
        "    x1=(2*x+y)%N\n",
        "    y1=(x+y)%N\n",
        "    return x1,y1\n",
        "def Chatoticiteration(img,N,iter):\n",
        "    img=img.astype('uint8')\n",
        "    images=[]\n",
        "    images.append(img)\n",
        "    for i in range(iter):\n",
        "        img=images[len(images)-1]\n",
        "        newimg=np.zeros(img.shape,dtype='uint8')\n",
        "        for row in range(img.shape[0]):\n",
        "            for col in range(img.shape[1]):\n",
        "                nrow,ncol=arnoldmap(row,col,N)\n",
        "                newimg[nrow][ncol]=img[row][col]\n",
        "        images.append(newimg)\n",
        "    return images\n",
        "def display(images):\n",
        "    fig = plt.figure(figsize=(25,25))\n",
        "    fig.subplots_adjust(hspace=0.1, wspace=0.1)\n",
        "    cols=5\n",
        "    rows=len(images)//cols\n",
        "    k=0\n",
        "    print(len(images))\n",
        "    #plt.figure(figsize=(8,8))\n",
        "    for k in range(len(images)):\n",
        "            plt.subplot(rows,cols,k+1)\n",
        "            plt.title('Iteration '+str(k+1))\n",
        "            plt.imshow(images[k],cmap='gray')\n",
        "            plt.xticks([])\n",
        "            plt.yticks([])\n",
        "            k+=1\n",
        "    #plt.subplots_adjust(left=0.1,bottom=0.1,right=0.9,top=0.9,wspace=0.4,hspace=0.4)\n",
        "    plt.suptitle('Arnold Cat Map Generated Images')\n",
        "    plt.show()"
      ]
    },
    {
      "cell_type": "markdown",
      "id": "32499617",
      "metadata": {
        "id": "32499617"
      },
      "source": [
        "# Section-4) Hamming Code Implementation"
      ]
    },
    {
      "cell_type": "code",
      "execution_count": 10,
      "id": "13f8da9f",
      "metadata": {
        "id": "13f8da9f"
      },
      "outputs": [],
      "source": [
        "#import numpy as np\n",
        "\n",
        "def calcRedundantBits(m):\n",
        "\tfor i in range(m):\n",
        "\t\tif(2**i >= m + i + 1):\n",
        "\t\t\treturn i\n",
        "\n",
        "def posRedundantBits(data, r):\n",
        "\tj = 0\n",
        "\tk = 1\n",
        "\tm = len(data)\n",
        "\tres = ''\n",
        "\tfor i in range(1, m + r+1):\n",
        "\t\tif(i == 2**j):\n",
        "\t\t\tres = res + '0'\n",
        "\t\t\tj += 1\n",
        "\t\telse:\n",
        "\t\t\tres = res + data[-1 * k]\n",
        "\t\t\tk += 1\n",
        "\treturn res[::-1]\n",
        "\n",
        "\n",
        "def calcParityBits(arr, r):\n",
        "\tn = len(arr)\n",
        "\tfor i in range(r):\n",
        "\t\tval = 0\n",
        "\t\tfor j in range(1, n + 1):\n",
        "\t\t\tif(j & (2**i) == (2**i)):\n",
        "\t\t\t\tval = val ^ int(arr[-1 * j])\n",
        "\t\tarr = arr[:n-(2**i)] + str(val) + arr[n-(2**i)+1:]\n",
        "\treturn arr\n",
        "\n",
        "\n",
        "def detectError(arr, nr):\n",
        "\tn = len(arr)\n",
        "\tres = 0\n",
        "\tfor i in range(nr):\n",
        "\t\tval = 0\n",
        "\t\tfor j in range(1, n + 1):\n",
        "\t\t\tif(j & (2**i) == (2**i)):\n",
        "\t\t\t\tval = val ^ int(arr[-1 * j])\n",
        "\t\tres = res + val*(10**i)\n",
        "\treturn int(str(res), 2)\n",
        "\n",
        "def implementecc(bindata):\n",
        "\toutput=''\n",
        "\tfor i in range(0,len(bindata),8):\n",
        "\t\tdata=bindata[i:i+8]\n",
        "\t\tm=len(data)\n",
        "\t\tr=calcRedundantBits(m)\n",
        "\t\tarr=posRedundantBits(data,r)\n",
        "\t\tarr=calcParityBits(arr,r)\n",
        "\t\toutput+=str(arr)\n",
        "\treturn output,r\n",
        "\n",
        "def removeerror(outdata,r):\n",
        "\toutput=''\n",
        "\tfor i in range(0,len(outdata),12):\n",
        "\t\tdata=outdata[i:i+12]\n",
        "\t\tpos=detectError(data,r)\n",
        "\t\tif pos==0:\n",
        "\t\t\ttemp=data[0:4]+data[5:8]+data[9]\n",
        "\t\telse:\n",
        "\t\t\tpos=len(data)-pos+1\n",
        "\t\t\tif data[pos-1]=='0':\n",
        "\t\t\t\tdata=data[0:pos-1]+'1'+data[pos:]\n",
        "\t\t\telse:\n",
        "\t\t\t\tdata=data[0:pos-1]+'0'+data[pos:]\n",
        "\t\t\ttemp=data[0:4]+data[5:8]+data[9]\n",
        "\t\toutput+=temp\n",
        "\treturn output\n"
      ]
    },
    {
      "cell_type": "markdown",
      "id": "58522b8c",
      "metadata": {
        "id": "58522b8c"
      },
      "source": [
        "# Section-5) Display Section"
      ]
    },
    {
      "cell_type": "code",
      "execution_count": 11,
      "id": "2f0db816",
      "metadata": {
        "id": "2f0db816"
      },
      "outputs": [],
      "source": [
        "from tabulate import tabulate\n",
        "def displayimages(images,captions):\n",
        "    fig = plt.figure(figsize=(20,30))\n",
        "    fig.subplots_adjust(hspace=0.2, wspace=0.01)\n",
        "    cols=5\n",
        "    rows=len(images)//cols\n",
        "    k=0\n",
        "    #print(len(images))\n",
        "    #plt.figure(figsize=(8,8))\n",
        "\n",
        "    for k in range(len(images)):\n",
        "            plt.subplot(rows,cols,k+1)\n",
        "            plt.imshow(images[k],cmap='gray')\n",
        "            plt.title(captions[k])\n",
        "            plt.xticks([])\n",
        "            plt.yticks([])\n",
        "            k+=1\n",
        "    plt.show()\n",
        "def attack_table(imgs,mses,psnrs,ssims,npcrs,uacis,nccs,bers,path,tablename):\n",
        "    col_labels=['Image','MSE','PSNR','SSIM','NPCR','UACI','NCC','BER']\n",
        "    #row_labels=[x for x in imgs]\n",
        "    records=[]\n",
        "    for i in range(len(imgs)):\n",
        "        rec=[]\n",
        "        #rec.append(i)\n",
        "        rec.append(imgs[i])\n",
        "        rec.append(mses[i])\n",
        "        rec.append(psnrs[i])\n",
        "        rec.append(ssims[i])\n",
        "        rec.append(npcrs[i])\n",
        "        rec.append(uacis[i])\n",
        "        rec.append(nccs[i])\n",
        "        rec.append(bers[i])\n",
        "        records.append(rec)\n",
        "    print(tabulate(records, headers=col_labels, tablefmt=\"grid\"))\n",
        "    exceldata={'Images':imgs,'MSE':mses,'PSNR':psnrs,'SSIM':ssims,'NPCR':npcrs,'UACI':uacis,'NCC':nccs,'BER':bers}\n",
        "    df=pd.DataFrame(exceldata)\n",
        "    df.to_excel(path+tablename+\".xlsx\",index=False)"
      ]
    },
    {
      "cell_type": "markdown",
      "id": "da2d3ded",
      "metadata": {
        "id": "da2d3ded"
      },
      "source": [
        "# Section -6) Block Index Mapping"
      ]
    },
    {
      "cell_type": "code",
      "execution_count": 12,
      "id": "8937ef18",
      "metadata": {
        "id": "8937ef18"
      },
      "outputs": [],
      "source": [
        "def Map_Block_2D_1D(img,locations_2d,bsize):\n",
        "    nrow,ncol=img.shape\n",
        "    br=nrow//bsize\n",
        "    bc=ncol//bsize\n",
        "    loc1d=[]\n",
        "    for i, (x, y) in enumerate(locations_2d):\n",
        "        v=x*bc+y\n",
        "        loc1d.append(v)\n",
        "    return loc1d"
      ]
    },
    {
      "cell_type": "code",
      "execution_count": 13,
      "id": "5a5c7b31",
      "metadata": {
        "id": "5a5c7b31"
      },
      "outputs": [],
      "source": [
        "def Map_Block_1D_2D(img,location_1d,bsize):\n",
        "    nrow,ncol=img.shape\n",
        "    br=nrow//bsize\n",
        "    bc=ncol//bsize\n",
        "    loc2d=[]\n",
        "    for item in location_1d:\n",
        "        x=item//bc\n",
        "        y=item%bc\n",
        "        loc2d.append((x,y))\n",
        "    return loc2d"
      ]
    },
    {
      "cell_type": "markdown",
      "id": "f8746e09",
      "metadata": {
        "id": "f8746e09"
      },
      "source": [
        "# testing map"
      ]
    },
    {
      "cell_type": "code",
      "execution_count": 14,
      "id": "86845b60",
      "metadata": {
        "colab": {
          "base_uri": "https://localhost:8080/"
        },
        "id": "86845b60",
        "outputId": "2c8e5ee1-eec7-42e8-a8eb-52b0d400c79b"
      },
      "outputs": [
        {
          "output_type": "stream",
          "name": "stdout",
          "text": [
            "[[178 199 176 ...  90 221  89]\n",
            " [ 52   7 253 ... 218   3 131]\n",
            " [ 32   8  48 ...  69  14 194]\n",
            " ...\n",
            " [168 165  92 ... 220 209  19]\n",
            " [ 17 195   3 ...  87   4 187]\n",
            " [  8  28  48 ...  39 114 155]]\n",
            "Total blocks  65536\n"
          ]
        }
      ],
      "source": [
        "mat=np.random.randint(0,255,(512,512))\n",
        "print(mat)\n",
        "blocks=image_blocks(mat,2)\n",
        "print(\"Total blocks \",len(blocks))\n",
        "blk_loc_1d=[x for x in range(len(blocks))]"
      ]
    },
    {
      "cell_type": "code",
      "execution_count": 15,
      "id": "9463b6d8",
      "metadata": {
        "id": "9463b6d8"
      },
      "outputs": [],
      "source": [
        "blk_loc_2d=Map_Block_1D_2D(mat,blk_loc_1d,2)\n",
        "#print(blk_loc_2d)"
      ]
    },
    {
      "cell_type": "code",
      "execution_count": 16,
      "id": "dc185f74",
      "metadata": {
        "id": "dc185f74"
      },
      "outputs": [],
      "source": [
        "blk_loc_1d=Map_Block_2D_1D(mat,blk_loc_2d,2)\n",
        "#print(blk_loc_1d)"
      ]
    },
    {
      "cell_type": "markdown",
      "id": "5d8a1c46",
      "metadata": {
        "id": "5d8a1c46"
      },
      "source": [
        "# Section-7) SVD Embedding"
      ]
    },
    {
      "cell_type": "code",
      "execution_count": 17,
      "id": "2a565362",
      "metadata": {
        "id": "2a565362"
      },
      "outputs": [],
      "source": [
        "def calculate_threshold(hostblks):\n",
        "    th=0\n",
        "    for blk in hostblks:\n",
        "        u,d,v=np.linalg.svd(blk)\n",
        "        if (u[0,0]>u[1,0]):\n",
        "            th=th+abs(u[0,0]-u[1,0])\n",
        "        else:\n",
        "            th=th+abs(u[1,0]-u[0,0])\n",
        "    th=th/len(hostblks)\n",
        "    return th"
      ]
    },
    {
      "cell_type": "markdown",
      "id": "7cf350a2",
      "metadata": {
        "id": "7cf350a2"
      },
      "source": [
        "# Step-1 ) Process Watermark with Arnold map and Hamming code"
      ]
    },
    {
      "cell_type": "code",
      "execution_count": 18,
      "id": "5c0bcd8c",
      "metadata": {
        "id": "5c0bcd8c"
      },
      "outputs": [],
      "source": [
        "def process_watermark(wm_img):\n",
        "    wm_images=Chatoticiteration(wm_img,wm_img.shape[0],24)\n",
        "    wm_embed=wm_images[10].copy()\n",
        "    #wm_embed=wm_embed.astype('uint8')\n",
        "    msg=image_to_bits(wm_embed) # converting positive value to bits\n",
        "    code,p=implementecc(msg)\n",
        "    return code,wm_embed"
      ]
    },
    {
      "cell_type": "markdown",
      "id": "cc2c9c3f",
      "metadata": {
        "id": "cc2c9c3f"
      },
      "source": [
        "# Step-2) U matrix Embedding"
      ]
    },
    {
      "cell_type": "code",
      "execution_count": 19,
      "id": "72170e5e",
      "metadata": {
        "id": "72170e5e"
      },
      "outputs": [],
      "source": [
        "def embedding_svd(img,code,loc_map_2d,bsize):\n",
        "    hostblks=image_blocks(img,bsize)\n",
        "    th=calculate_threshold(hostblks)\n",
        "    #print(\"Block threshold=\",th)\n",
        "    loc_map_1d=Map_Block_2D_1D(img,loc_map_2d,bsize)\n",
        "    for i in range(len(code)):\n",
        "        blk=hostblks[loc_map_1d[i]]\n",
        "        u,d,v=np.linalg.svd(blk,full_matrices=True)\n",
        "        if (code[i]=='0' and u[0,0]<=u[1,0]):\n",
        "            t=u[0,0]\n",
        "            u[0,0]=u[1,0]\n",
        "            u[1,0]=t\n",
        "            if abs(u[0,0]-u[1,0])<th:\n",
        "                u[0,0]=u[0,0]+th/2\n",
        "                u[1,0]=u[1,0]-th/2\n",
        "        elif (code[i]=='1' and u[0,0]>u[1,0]):\n",
        "            t=u[0,0]\n",
        "            u[0,0]=u[1,0]\n",
        "            u[1,0]=t\n",
        "            if abs(u[0,0]-u[1,0])<th:\n",
        "                u[0,0]=u[0,0]-th/2\n",
        "                u[1,0]=u[1,0]+th/2\n",
        "        rank = d.size\n",
        "        B=u[:, :rank]@np.diag(d)@v[:rank,:]\n",
        "        hostblks[loc_map_1d[i]]=B.copy()\n",
        "    stego=blocks_image(hostblks)\n",
        "    return stego"
      ]
    },
    {
      "cell_type": "markdown",
      "id": "38ce48b8",
      "metadata": {
        "id": "38ce48b8"
      },
      "source": [
        "# Step 3) Watermark Extraction"
      ]
    },
    {
      "cell_type": "code",
      "execution_count": 20,
      "id": "fc0de447",
      "metadata": {
        "id": "fc0de447"
      },
      "outputs": [],
      "source": [
        "def extraction_sdv(stego,loc_map_2d,bsize,r,c):\n",
        "    emsg=''\n",
        "    hostblks=image_blocks(stego,bsize)\n",
        "    loc_map_1d=Map_Block_2D_1D(stego,loc_map_2d,bsize)\n",
        "    for i in range(r*c*12):\n",
        "        blk=hostblks[loc_map_1d[i]]\n",
        "        u,d,v=np.linalg.svd(blk)\n",
        "        if (u[0,0]>u[1,0]):\n",
        "            emsg=emsg+'0'\n",
        "        else:\n",
        "            emsg=emsg+'1'\n",
        "    corr_msg=removeerror(emsg,4)\n",
        "    ex_wm=bits_to_image(corr_msg,r,c)\n",
        "    imgs=Chatoticiteration(ex_wm,ex_wm.shape[0],14)\n",
        "    rec_wm=imgs[14].copy()\n",
        "    return rec_wm"
      ]
    },
    {
      "cell_type": "markdown",
      "id": "a25afd63",
      "metadata": {
        "id": "a25afd63"
      },
      "source": [
        "# Section-8) PSO for embedding location"
      ]
    },
    {
      "cell_type": "markdown",
      "id": "22755b8b",
      "metadata": {
        "id": "22755b8b"
      },
      "source": [
        "# 8.1) Objective Function Comprehensive"
      ]
    },
    {
      "cell_type": "code",
      "execution_count": 21,
      "id": "be3b4656",
      "metadata": {
        "id": "be3b4656"
      },
      "outputs": [],
      "source": [
        "def objective_function_compre(locations, host_img, watermark,bsize,r,c):\n",
        "    \"\"\"Evaluate PSO particles based on imperceptibility (PSNR) and robustness.\"\"\"\n",
        "\n",
        "    watermarked_img=embedding_svd(host_image,watermark,locations,bsize)\n",
        "    mse,psnr = mse_psnr(host_image, watermarked_img)\n",
        "    score1,diff = structural_similarity(host_image.astype('uint8'), watermarked_img.astype('uint8'),full=True)\n",
        "\n",
        "    #Salt and pepper noise\n",
        "    sapn01=add_salt_and_pepper_noise(watermarked_img,0.01,0.01)\n",
        "    sapn001=add_salt_and_pepper_noise(watermarked_img,0.001,0.001)\n",
        "    sapn0001=add_salt_and_pepper_noise(watermarked_img,0.0001,0.0001)\n",
        "\n",
        "    #Gaussian noise\n",
        "    gaun1=gaussian_noise(watermarked_img,0,0.1)\n",
        "    gaun01=gaussian_noise(watermarked_img,0,0.01)\n",
        "    gaun05=gaussian_noise(watermarked_img,0,0.05)\n",
        "\n",
        "    #Speckle noise\n",
        "    spec1=speckle_noise(watermarked_img,0,0.1)\n",
        "    spec01=speckle_noise(watermarked_img,0,0.01)\n",
        "    spec05=speckle_noise(watermarked_img,0,0.05)\n",
        "\n",
        "    #Uniform Noise\n",
        "    un01=uniform_noise(watermarked_img,0.01)\n",
        "\n",
        "    #Side Crop\n",
        "    scrlu=side_crop_leftup(watermarked_img,200)\n",
        "    scrlb=side_crop_leftbot(watermarked_img,200)\n",
        "    scrru=side_crop_rightup(watermarked_img,200)\n",
        "    scrrb=side_crop_rightbot(watermarked_img,200)\n",
        "\n",
        "    #Center Crop\n",
        "    cc100=center_crop(watermarked_img,100)\n",
        "    cc200=center_crop(watermarked_img,200)\n",
        "    cc300=center_crop(watermarked_img,300)\n",
        "    cc256=center_crop(watermarked_img,256)\n",
        "\n",
        "    #Average Filter\n",
        "    ave_blurred=average_filter(watermarked_img,(3,3))\n",
        "\n",
        "    #Gaussin filter\n",
        "    gauss3=gaussian_filter(watermarked_img,sigma=0.3,mode='nearest')\n",
        "    gauss5=gaussian_filter(watermarked_img,sigma=0.6,mode='nearest')\n",
        "\n",
        "    #Median blur\n",
        "    medf=median_filter(watermarked_img,size=3)\n",
        "\n",
        "    #Sharpening\n",
        "    sharp=sharpen_image(watermarked_img)\n",
        "\n",
        "    #laplacian sharpning\n",
        "    laplacian = cv2.Laplacian(watermarked_img, cv2.CV_64F)\n",
        "    sharp_lap = cv2.convertScaleAbs(watermarked_img - laplacian)\n",
        "\n",
        "    #jpeg\n",
        "    cv2.imwrite('./test100.jpg',watermarked_img,[cv2.IMWRITE_JPEG_QUALITY, 100])\n",
        "    jpg_stego100=cv2.imread('./test100.jpg',0)\n",
        "    cv2.imwrite('./test90.jpg',watermarked_img,[cv2.IMWRITE_JPEG_QUALITY, 90])\n",
        "    jpg_stego90=cv2.imread('./test90.jpg',0)\n",
        "\n",
        "    #Histogram Equalization\n",
        "    hist_equ=cv2.equalizeHist(watermarked_img.astype('uint8'))\n",
        "\n",
        "    #Translation\n",
        "    tr=translate_image(watermarked_img,tx=50, ty=50)\n",
        "    rev_tr=translate_image(tr,tx=-50, ty=-50)\n",
        "    rev_tr_final=inpaint_black_corners(rev_tr.astype('uint8'))\n",
        "\n",
        "    #Motion Blur\n",
        "    blurred_image = apply_motion_blur(watermarked_img, kernel_size=5, angle=0)\n",
        "    m_blurred=gaussian_filter(blurred_image,sigma=0.3,mode='nearest')\n",
        "    imgs=[]\n",
        "    imgs.append(watermarked_img)\n",
        "    imgs.append(sapn01)\n",
        "    imgs.append(sapn001)\n",
        "    imgs.append(sapn0001)\n",
        "    imgs.append(gaun1)\n",
        "    imgs.append(gaun01)\n",
        "    imgs.append(gaun05)\n",
        "    imgs.append(spec1)\n",
        "    imgs.append(spec01)\n",
        "    imgs.append(spec05)\n",
        "    imgs.append(un01)\n",
        "    imgs.append(scrlu)\n",
        "    imgs.append(scrlb)\n",
        "    imgs.append(scrru)\n",
        "    imgs.append(scrrb)\n",
        "    imgs.append(cc100)\n",
        "    imgs.append(cc200)\n",
        "    imgs.append(cc256)\n",
        "    imgs.append(cc300)\n",
        "    imgs.append(ave_blurred)\n",
        "    imgs.append(gauss3)\n",
        "    imgs.append(gauss5)\n",
        "    imgs.append(medf)\n",
        "    imgs.append(sharp)\n",
        "    imgs.append(sharp_lap)\n",
        "    imgs.append(jpg_stego100)\n",
        "    imgs.append(jpg_stego90)\n",
        "    imgs.append(hist_equ)\n",
        "    imgs.append(rev_tr_final)\n",
        "    imgs.append(m_blurred)\n",
        "\n",
        "    #Recover original wateramrk image\n",
        "    corr_msg=removeerror(watermark,4)\n",
        "    ex_wm=bits_to_image(corr_msg,r,c)\n",
        "    imglist=Chatoticiteration(ex_wm,ex_wm.shape[0],14)\n",
        "    w0=imglist[14].copy()\n",
        "\n",
        "    wm_imgs=[]\n",
        "    rob_list=[]\n",
        "    for wimg in imgs:\n",
        "        wm=extraction_sdv(wimg,locations,2,32,32)\n",
        "        rob=normalized_cross_correlation(w0,wm)\n",
        "        wm_imgs.append(wm)\n",
        "        rob_list.append(round(rob,3))\n",
        "\n",
        "    mean_rob=np.mean(rob_list)\n",
        "    score=70/psnr+1/score1+30/mean_rob\n",
        "    # Combine objectives (minimizing function)\n",
        "    #print(\"Score:\",score)\n",
        "    return score"
      ]
    },
    {
      "cell_type": "markdown",
      "id": "4ef95411",
      "metadata": {
        "id": "4ef95411"
      },
      "source": [
        "# 8.2) Objective Function"
      ]
    },
    {
      "cell_type": "code",
      "execution_count": 22,
      "id": "41f210e6",
      "metadata": {
        "id": "41f210e6"
      },
      "outputs": [],
      "source": [
        "def objective_function(locations, host_img, watermark,bsize,r,c):\n",
        "    \"\"\"Evaluate PSO particles based on imperceptibility (PSNR) and robustness.\"\"\"\n",
        "\n",
        "    watermarked_img=embedding_svd(host_img,watermark,locations,bsize=2)\n",
        "    mse,psnr = mse_psnr(host_img, watermarked_img)\n",
        "    score,diff = structural_similarity(host_img.astype('uint8'), watermarked_img.astype('uint8'),full=True)\n",
        "\n",
        "    attacked_img1=gaussian_noise(watermarked_img,0,0.1)\n",
        "    attacked_img2=add_salt_and_pepper_noise(watermarked_img,0.01,0.01)\n",
        "    attacked_img3=speckle_noise(watermarked_img,0,0.1)\n",
        "    attacked_img4=center_crop(watermarked_img,200)\n",
        "    attacked_img5=cv2.equalizeHist(watermarked_img.astype('uint8'))\n",
        "\n",
        "    #Recover wateramrk image\n",
        "    corr_msg=removeerror(watermark,4)\n",
        "    ex_wm=bits_to_image(corr_msg,r,c)\n",
        "    imgs=Chatoticiteration(ex_wm,ex_wm.shape[0],14)\n",
        "    w0=imgs[14].copy()\n",
        "\n",
        "    w1 = extraction_sdv(watermarked_img,locations,bsize,r,c)\n",
        "    w2 = extraction_sdv(attacked_img1,locations,bsize,r,c)\n",
        "    w3 = extraction_sdv(attacked_img2,locations,bsize,r,c)\n",
        "    w4 = extraction_sdv(attacked_img3,locations,bsize,r,c)\n",
        "    w5 = extraction_sdv(attacked_img4,locations,bsize,r,c)\n",
        "    w6 = extraction_sdv(attacked_img5,locations,bsize,r,c)\n",
        "\n",
        "    rob1 = normalized_cross_correlation(w0,w1)\n",
        "    rob2 = normalized_cross_correlation(w0,w2)\n",
        "    rob3 = normalized_cross_correlation(w0,w3)\n",
        "    rob4 = normalized_cross_correlation(w0,w4)\n",
        "    rob5 = normalized_cross_correlation(w0,w5)\n",
        "    rob6 = normalized_cross_correlation(w0,w6)\n",
        "\n",
        "    mean_rob=(rob1+rob2+rob3+rob4+rob5+rob5)/6\n",
        "\n",
        "    score=0.6/psnr+0.1/score+0.3/mean_rob\n",
        "    # Combine objectives (minimizing function)\n",
        "    #print(\"Score:\",score)\n",
        "    return score"
      ]
    },
    {
      "cell_type": "markdown",
      "id": "de9c16bb",
      "metadata": {
        "id": "de9c16bb"
      },
      "source": [
        "# 8.3) PSO"
      ]
    },
    {
      "cell_type": "code",
      "execution_count": 23,
      "id": "01999451",
      "metadata": {
        "id": "01999451"
      },
      "outputs": [],
      "source": [
        "def PSO(n_par,n_iter,host_image,watermark,bsize,r,c):\n",
        "    # PSO parameters\n",
        "    n_particles = n_par\n",
        "    n_iterations = n_iter\n",
        "    search_space = (host_image.shape[0]//bsize,host_image.shape[1]//bsize)\n",
        "    print(search_space)\n",
        "    particles = [random.sample(list(np.ndindex(search_space)), len(watermark)) for _ in range(n_particles)]\n",
        "    velocities = [np.zeros_like(p) for p in particles]\n",
        "    pbest_positions = particles[:]\n",
        "    pbest_scores = [objective_function(p,host_image, watermark,bsize,r,c) for p in particles]\n",
        "    gbest_position = particles[np.argmin(pbest_scores)]\n",
        "    gbest_score = min(pbest_scores)\n",
        "\n",
        "    # PSO loop\n",
        "    for _ in range(n_iterations):\n",
        "        print(\"Iteration no: \",_)\n",
        "        for i in range(n_particles):\n",
        "            #print(\"Particle no: \",i+1)\n",
        "            # Update velocity and position\n",
        "            r1, r2 = np.random.rand(2)\n",
        "            velocities[i] = (0.9 * velocities[i]\n",
        "                             + 0.5 * r1 * (np.array(pbest_positions[i]) - np.array(particles[i]))\n",
        "                             + 0.3 * r2 * (np.array(gbest_position) - np.array(particles[i])))\n",
        "            # Update particle position\n",
        "            particles[i] = (np.array(particles[i]) + velocities[i]).astype(int)\n",
        "            particles[i] = np.clip(particles[i], 0, search_space[0] - 1)  # Keep within bounds\n",
        "            # Evaluate fitness\n",
        "            score = objective_function(particles[i], host_image, watermark,bsize,r,c)\n",
        "            if score < pbest_scores[i]:\n",
        "                pbest_scores[i] = score\n",
        "                pbest_positions[i] = particles[i]\n",
        "        # Update global best\n",
        "        current_gbest_score = min(pbest_scores)\n",
        "        if current_gbest_score < gbest_score:\n",
        "            gbest_score = current_gbest_score\n",
        "            gbest_position = pbest_positions[np.argmin(pbest_scores)]\n",
        "        print('GLOBAL BEST SCORE :',gbest_score)\n",
        "\n",
        "    return gbest_position\n"
      ]
    },
    {
      "cell_type": "code",
      "execution_count": 24,
      "id": "6143545d",
      "metadata": {
        "id": "6143545d"
      },
      "outputs": [],
      "source": [
        "def PSO_compre(n_par,n_iter,host_image,watermark,bsize,r,c):\n",
        "    # PSO parameters\n",
        "    n_particles = n_par\n",
        "    n_iterations = n_iter\n",
        "    search_space = (host_image.shape[0]//bsize,host_image.shape[1]//bsize)\n",
        "    print(search_space)\n",
        "    particles = [random.sample(list(np.ndindex(search_space)), len(watermark)) for _ in range(n_particles)]\n",
        "    velocities = [np.zeros_like(p) for p in particles]\n",
        "    pbest_positions = particles[:]\n",
        "    pbest_scores = [objective_function_compre(p,host_image, watermark,bsize,r,c) for p in particles]\n",
        "    gbest_position = particles[np.argmin(pbest_scores)]\n",
        "    gbest_score = min(pbest_scores)\n",
        "\n",
        "    # PSO loop\n",
        "    for _ in range(n_iterations):\n",
        "        print(\"Iteration no: \",_)\n",
        "        for i in range(n_particles):\n",
        "            #print(\"Particle no: \",i+1)\n",
        "            # Update velocity and position\n",
        "            r1, r2 = np.random.rand(2)\n",
        "            velocities[i] = (0.9 * velocities[i]\n",
        "                             + 0.5 * r1 * (np.array(pbest_positions[i]) - np.array(particles[i]))\n",
        "                             + 0.3 * r2 * (np.array(gbest_position) - np.array(particles[i])))\n",
        "            # Update particle position\n",
        "            particles[i] = (np.array(particles[i]) + velocities[i]).astype(int)\n",
        "            particles[i] = np.clip(particles[i], 0, search_space[0] - 1)  # Keep within bounds\n",
        "            # Evaluate fitness\n",
        "            score = objective_function_compre(particles[i], host_image, watermark,bsize,r,c)\n",
        "            if score < pbest_scores[i]:\n",
        "                pbest_scores[i] = score\n",
        "                pbest_positions[i] = particles[i]\n",
        "        # Update global best\n",
        "        current_gbest_score = min(pbest_scores)\n",
        "        if current_gbest_score < gbest_score:\n",
        "            gbest_score = current_gbest_score\n",
        "            gbest_position = pbest_positions[np.argmin(pbest_scores)]\n",
        "        print('GLOBAL BEST SCORE :',gbest_score)\n",
        "\n",
        "    return gbest_position\n"
      ]
    },
    {
      "cell_type": "markdown",
      "id": "876dd3a0",
      "metadata": {
        "id": "876dd3a0"
      },
      "source": [
        "# 1) Testing for lena and splash"
      ]
    },
    {
      "cell_type": "code",
      "execution_count": 25,
      "id": "4002dc7c",
      "metadata": {
        "id": "4002dc7c"
      },
      "outputs": [],
      "source": [
        "from datetime import datetime\n",
        "start_time = datetime.now()"
      ]
    },
    {
      "cell_type": "code",
      "execution_count": 28,
      "id": "fb4efe20",
      "metadata": {
        "id": "fb4efe20"
      },
      "outputs": [],
      "source": [
        "# Load host image and watermark\n",
        "host_image = cv2.imread(\"./lena.tiff\", 0)\n",
        "r=32\n",
        "c=32\n",
        "wm_img=cv2.imread('./splash.jpg',0)\n",
        "wimg=cv2.resize(wm_img,(r,c), interpolation = cv2.INTER_AREA)\n",
        "watermark,wm_embed=process_watermark(wimg)"
      ]
    },
    {
      "cell_type": "code",
      "source": [
        "plt.imshow(host_image,cmap='gray')\n",
        "plt.show()\n",
        "plt.imshow(wm_embed,cmap='gray')\n",
        "plt.show()"
      ],
      "metadata": {
        "colab": {
          "base_uri": "https://localhost:8080/",
          "height": 848
        },
        "id": "z5r6FBEcc2vA",
        "outputId": "4764f934-4bcb-463a-a67b-0d0615dbc844"
      },
      "id": "z5r6FBEcc2vA",
      "execution_count": 29,
      "outputs": [
        {
          "output_type": "display_data",
          "data": {
            "text/plain": [
              "<Figure size 640x480 with 1 Axes>"
            ],
            "image/png": "[encoded data removed]"
          },
          "metadata": {}
        },
        {
          "output_type": "display_data",
          "data": {
            "text/plain": [
              "<Figure size 640x480 with 1 Axes>"
            ],
            "image/png": "[encoded data removed]"
          },
          "metadata": {}
        }
      ]
    },
    {
      "cell_type": "code",
      "execution_count": null,
      "id": "c2719427",
      "metadata": {
        "colab": {
          "base_uri": "https://localhost:8080/"
        },
        "id": "c2719427",
        "outputId": "3b8c2b2e-0b39-4990-ed0a-975c04778a31"
      },
      "outputs": [
        {
          "output_type": "stream",
          "name": "stdout",
          "text": [
            "(256, 256)\n",
            "Iteration no:  0\n",
            "GLOBAL BEST SCORE : 42.67597656096755\n",
            "Iteration no:  1\n",
            "GLOBAL BEST SCORE : 42.62825951604399\n",
            "Iteration no:  2\n",
            "GLOBAL BEST SCORE : 42.62825951604399\n",
            "Iteration no:  3\n",
            "GLOBAL BEST SCORE : 42.62825951604399\n",
            "Iteration no:  4\n",
            "GLOBAL BEST SCORE : 42.62825951604399\n",
            "Iteration no:  5\n",
            "GLOBAL BEST SCORE : 42.62825951604399\n",
            "Iteration no:  6\n",
            "GLOBAL BEST SCORE : 42.62825951604399\n",
            "Iteration no:  7\n",
            "GLOBAL BEST SCORE : 42.520858561546206\n",
            "Iteration no:  8\n",
            "GLOBAL BEST SCORE : 42.520858561546206\n",
            "Iteration no:  9\n"
          ]
        }
      ],
      "source": [
        "gbest_position=PSO_compre(30,30,host_image,watermark,2,32,32)"
      ]
    },
    {
      "cell_type": "code",
      "execution_count": null,
      "id": "e4458e45",
      "metadata": {
        "id": "e4458e45"
      },
      "outputs": [],
      "source": [
        "import time\n",
        "time.sleep(2)\n",
        "end_time = datetime.now()\n",
        "execution_time = end_time - start_time\n",
        "print(f\"Execution Time: {execution_time}\")"
      ]
    },
    {
      "cell_type": "code",
      "execution_count": null,
      "id": "9a559f58",
      "metadata": {
        "id": "9a559f58"
      },
      "outputs": [],
      "source": [
        "optimized_locations = gbest_position\n",
        "bsize=2"
      ]
    },
    {
      "cell_type": "code",
      "execution_count": null,
      "id": "7ca2cd00",
      "metadata": {
        "id": "7ca2cd00"
      },
      "outputs": [],
      "source": [
        "len(optimized_locations)"
      ]
    },
    {
      "cell_type": "markdown",
      "id": "1cddb182",
      "metadata": {
        "id": "1cddb182"
      },
      "source": [
        "# 30 different Attacks performed"
      ]
    },
    {
      "cell_type": "code",
      "execution_count": null,
      "id": "3956e525",
      "metadata": {
        "id": "3956e525"
      },
      "outputs": [],
      "source": [
        "attacks=['NoAtk','Salt0.01','Salt0.001','Salt0.0001','Gaun0.1','Gaun0.01','Gaun0.05','Spec0.1','Spec0.01','Spec0.05','Uni0.01',\n",
        "        'SCR_LU','SCR_LB','SCR_RU','SCR_RB','CCrop100','CCrop200','CCrop256','CCrop300','Ave_blur','GauBlur3x3','GauBlur5x5','MedF',\n",
        "        'BasicSharp','LapSharp','JPG100','JPG90','HistEQ','Traslate50','Motion Blur']"
      ]
    },
    {
      "cell_type": "code",
      "execution_count": null,
      "id": "e99ba724",
      "metadata": {
        "id": "e99ba724"
      },
      "outputs": [],
      "source": [
        "bsize=2\n",
        "watermarked_img=embedding_svd(host_image,watermark,optimized_locations,bsize)\n",
        "mse,psnr = mse_psnr(host_image, watermarked_img)\n",
        "score,diff = structural_similarity(host_image.astype('uint8'), watermarked_img.astype('uint8'),full=True)\n",
        "\n",
        "#Salt and pepper noise\n",
        "sapn01=add_salt_and_pepper_noise(watermarked_img,0.01,0.01)\n",
        "sapn001=add_salt_and_pepper_noise(watermarked_img,0.001,0.001)\n",
        "sapn0001=add_salt_and_pepper_noise(watermarked_img,0.0001,0.0001)\n",
        "\n",
        "#Gaussian noise\n",
        "gaun1=gaussian_noise(watermarked_img,0,0.1)\n",
        "gaun01=gaussian_noise(watermarked_img,0,0.01)\n",
        "gaun05=gaussian_noise(watermarked_img,0,0.05)\n",
        "\n",
        "#Speckle noise\n",
        "spec1=speckle_noise(watermarked_img,0,0.1)\n",
        "spec05=speckle_noise(watermarked_img,0,0.05)\n",
        "spec01=speckle_noise(watermarked_img,0,0.01)\n",
        "\n",
        "\n",
        "#Uniform Noise\n",
        "un01=uniform_noise(watermarked_img,0.01)\n",
        "\n",
        "#Side Crop\n",
        "scrlu=side_crop_leftup(watermarked_img,200)\n",
        "scrlb=side_crop_leftbot(watermarked_img,200)\n",
        "scrru=side_crop_rightup(watermarked_img,200)\n",
        "scrrb=side_crop_rightbot(watermarked_img,200)\n",
        "\n",
        "#Center Crop\n",
        "cc100=center_crop(watermarked_img,100)\n",
        "cc200=center_crop(watermarked_img,200)\n",
        "cc300=center_crop(watermarked_img,300)\n",
        "cc256=center_crop(watermarked_img,256)\n",
        "\n",
        "#Average Filter\n",
        "ave_blurred=average_filter(watermarked_img,(3,3))\n",
        "\n",
        "#Gaussin filter\n",
        "gauss3=gaussian_filter(watermarked_img,sigma=0.3,mode='nearest')\n",
        "gauss5=gaussian_filter(watermarked_img,sigma=0.6,mode='nearest')\n",
        "\n",
        "#Median blur\n",
        "medf=median_filter(watermarked_img,size=3)\n",
        "\n",
        "#Sharpening\n",
        "sharp=sharpen_image(watermarked_img)\n",
        "\n",
        "#laplacian sharpning\n",
        "laplacian = cv2.Laplacian(watermarked_img, cv2.CV_64F)\n",
        "sharp_lap = cv2.convertScaleAbs(watermarked_img - laplacian)\n",
        "\n",
        "#jpeg\n",
        "cv2.imwrite('./exp/test100.jpg',watermarked_img,[cv2.IMWRITE_JPEG_QUALITY, 100])\n",
        "jpg_stego100=cv2.imread('./exp/test100.jpg',0)\n",
        "cv2.imwrite('./exp/test90.jpg',watermarked_img,[cv2.IMWRITE_JPEG_QUALITY, 90])\n",
        "jpg_stego90=cv2.imread('./exp/test90.jpg',0)\n",
        "\n",
        "#Histogram Equalization\n",
        "hist_equ=cv2.equalizeHist(watermarked_img.astype('uint8'))\n",
        "\n",
        "#Translation\n",
        "tr=translate_image(watermarked_img,tx=50, ty=50)\n",
        "rev_tr=translate_image(tr,tx=-50, ty=-50)\n",
        "rev_tr_final=inpaint_black_corners(rev_tr.astype('uint8'))\n",
        "\n",
        "#Motion Blur\n",
        "blurred_image = apply_motion_blur(watermarked_img, kernel_size=5, angle=0)\n",
        "m_blurred=gaussian_filter(blurred_image,sigma=0.3,mode='nearest')"
      ]
    },
    {
      "cell_type": "markdown",
      "id": "9a203840",
      "metadata": {
        "id": "9a203840"
      },
      "source": [
        "# Colleting Atatcked images"
      ]
    },
    {
      "cell_type": "code",
      "execution_count": null,
      "id": "85e8a364",
      "metadata": {
        "id": "85e8a364"
      },
      "outputs": [],
      "source": [
        "imgs=[]\n",
        "imgs.append(watermarked_img)\n",
        "imgs.append(sapn01)\n",
        "imgs.append(sapn001)\n",
        "imgs.append(sapn0001)\n",
        "imgs.append(gaun1)\n",
        "imgs.append(gaun01)\n",
        "imgs.append(gaun05)\n",
        "imgs.append(spec1)\n",
        "imgs.append(spec01)\n",
        "imgs.append(spec05)\n",
        "imgs.append(un01)\n",
        "imgs.append(scrlu)\n",
        "imgs.append(scrlb)\n",
        "imgs.append(scrru)\n",
        "imgs.append(scrrb)\n",
        "imgs.append(cc100)\n",
        "imgs.append(cc200)\n",
        "imgs.append(cc256)\n",
        "imgs.append(cc300)\n",
        "imgs.append(ave_blurred)\n",
        "imgs.append(gauss3)\n",
        "imgs.append(gauss5)\n",
        "imgs.append(medf)\n",
        "imgs.append(sharp)\n",
        "imgs.append(sharp_lap)\n",
        "imgs.append(jpg_stego100)\n",
        "imgs.append(jpg_stego90)\n",
        "imgs.append(hist_equ)\n",
        "imgs.append(rev_tr_final)\n",
        "imgs.append(m_blurred)"
      ]
    },
    {
      "cell_type": "markdown",
      "id": "aa17151a",
      "metadata": {
        "id": "aa17151a"
      },
      "source": [
        "# PSNRs"
      ]
    },
    {
      "cell_type": "code",
      "execution_count": null,
      "id": "76e7bc59",
      "metadata": {
        "id": "76e7bc59"
      },
      "outputs": [],
      "source": [
        "psnrs=[]\n",
        "for wimg in imgs:\n",
        "    mse,psnr = mse_psnr(host_image, wimg)\n",
        "    psnrs.append(round(psnr,3))\n",
        "    print(round(psnr,3))"
      ]
    },
    {
      "cell_type": "code",
      "execution_count": null,
      "id": "3f20fd17",
      "metadata": {
        "id": "3f20fd17"
      },
      "outputs": [],
      "source": [
        "print(len(imgs))\n",
        "print(len(attacks))\n",
        "print(len(psnrs))"
      ]
    },
    {
      "cell_type": "markdown",
      "id": "0f3162b6",
      "metadata": {
        "id": "0f3162b6"
      },
      "source": [
        "# Robustness"
      ]
    },
    {
      "cell_type": "code",
      "execution_count": null,
      "id": "9d9c5bfb",
      "metadata": {
        "id": "9d9c5bfb"
      },
      "outputs": [],
      "source": [
        "#Recover original wateramrk image\n",
        "corr_msg=removeerror(watermark,4)\n",
        "ex_wm=bits_to_image(corr_msg,r,c)\n",
        "imglist=Chatoticiteration(ex_wm,ex_wm.shape[0],14)\n",
        "w0=imglist[14].copy()\n",
        "\n",
        "wm_imgs=[]\n",
        "rob_list=[]\n",
        "for wimg in imgs:\n",
        "    wm=extraction_sdv(wimg,optimized_locations,2,32,32)\n",
        "    rob=normalized_cross_correlation(w0,wm)\n",
        "    wm_imgs.append(wm)\n",
        "    rob_list.append(round(rob,3))"
      ]
    },
    {
      "cell_type": "code",
      "execution_count": null,
      "id": "c7708475",
      "metadata": {
        "id": "c7708475"
      },
      "outputs": [],
      "source": [
        "watermarked_img.dtype"
      ]
    },
    {
      "cell_type": "code",
      "execution_count": null,
      "id": "5080d7d6",
      "metadata": {
        "id": "5080d7d6"
      },
      "outputs": [],
      "source": [
        "w0.dtype"
      ]
    },
    {
      "cell_type": "code",
      "execution_count": null,
      "id": "a11f82e5",
      "metadata": {
        "id": "a11f82e5"
      },
      "outputs": [],
      "source": [
        "spec001=speckle_noise(watermarked_img,0,0.001)\n",
        "wm=extraction_sdv(spec001,optimized_locations,2,32,32)\n",
        "rob=normalized_cross_correlation(w0,wm)\n",
        "print(\"Speckle 0.001\",rob)"
      ]
    },
    {
      "cell_type": "code",
      "execution_count": null,
      "id": "5d4d5a77",
      "metadata": {
        "id": "5d4d5a77"
      },
      "outputs": [],
      "source": [
        "ccr50=center_crop(watermarked_img,50)\n",
        "wm=extraction_sdv(ccr50,optimized_locations,2,32,32)\n",
        "rob=normalized_cross_correlation(w0,wm)\n",
        "print(\"Center crop 50\",rob)"
      ]
    },
    {
      "cell_type": "code",
      "execution_count": null,
      "id": "bced6325",
      "metadata": {
        "id": "bced6325"
      },
      "outputs": [],
      "source": [
        "med=median_filter(watermarked_img,size=3,mode='constant')\n",
        "wm=extraction_sdv(med,optimized_locations,2,32,32)\n",
        "rob=normalized_cross_correlation(w0,wm)\n",
        "print(\"Median filter 3x3\",rob)"
      ]
    },
    {
      "cell_type": "code",
      "execution_count": null,
      "id": "1295c909",
      "metadata": {
        "id": "1295c909"
      },
      "outputs": [],
      "source": [
        "print(watermarked_img[:10,:10])"
      ]
    },
    {
      "cell_type": "code",
      "execution_count": null,
      "id": "8c95f504",
      "metadata": {
        "id": "8c95f504"
      },
      "outputs": [],
      "source": [
        "print(med[:10,:10])"
      ]
    },
    {
      "cell_type": "code",
      "execution_count": null,
      "id": "0205a12a",
      "metadata": {
        "id": "0205a12a"
      },
      "outputs": [],
      "source": [
        "print('PSNR={0} dB'.format(psnrs[0]))\n",
        "for i in range(len(rob_list)):\n",
        "    print(\"Attack No :{0}, ({1}) NCC={2} \".format(i+1,attacks[i],rob_list[i]))"
      ]
    },
    {
      "cell_type": "markdown",
      "id": "25a3779c",
      "metadata": {
        "id": "25a3779c"
      },
      "source": [
        "# 1) Results(PSNRS)"
      ]
    },
    {
      "cell_type": "code",
      "execution_count": null,
      "id": "ad7e2640",
      "metadata": {
        "id": "ad7e2640"
      },
      "outputs": [],
      "source": [
        "len(psnrs)"
      ]
    },
    {
      "cell_type": "code",
      "execution_count": null,
      "id": "1e4ddb7f",
      "metadata": {
        "id": "1e4ddb7f"
      },
      "outputs": [],
      "source": [
        "cap_attack=[]\n",
        "for i in range(len(attacks)):\n",
        "    new_cap=attacks[i]+\": (\"+str(psnrs[i])+\"dB)\"\n",
        "    cap_attack.append(new_cap)"
      ]
    },
    {
      "cell_type": "code",
      "execution_count": null,
      "id": "1010b62f",
      "metadata": {
        "id": "1010b62f"
      },
      "outputs": [],
      "source": [
        "displayimages(imgs,cap_attack)"
      ]
    },
    {
      "cell_type": "markdown",
      "id": "3cd98bb9",
      "metadata": {
        "id": "3cd98bb9"
      },
      "source": [
        "# 2)Result NCC"
      ]
    },
    {
      "cell_type": "code",
      "execution_count": null,
      "id": "24a290f9",
      "metadata": {
        "id": "24a290f9"
      },
      "outputs": [],
      "source": [
        "cap_attack=[]\n",
        "for i in range(len(attacks)):\n",
        "    new_cap=attacks[i]+\": (\"+str(round(rob_list[i],3))+\")\"\n",
        "    cap_attack.append(new_cap)\n",
        "displayimages(wm_imgs,cap_attack)"
      ]
    },
    {
      "cell_type": "markdown",
      "id": "321ef905",
      "metadata": {
        "id": "321ef905"
      },
      "source": [
        "# 2) Testing for Airplane and Splash"
      ]
    },
    {
      "cell_type": "code",
      "execution_count": null,
      "id": "3a3de0d6",
      "metadata": {
        "id": "3a3de0d6"
      },
      "outputs": [],
      "source": [
        "# Load host image and watermark\n",
        "host_image = cv2.imread(\"./airplane.tiff\", 0)\n",
        "r=32\n",
        "c=32\n",
        "wm_img=cv2.imread('./splash.jpg',0)\n",
        "wimg=cv2.resize(wm_img,(r,c), interpolation = cv2.INTER_AREA)\n",
        "watermark,wm_embed=process_watermark(wimg)"
      ]
    },
    {
      "cell_type": "code",
      "execution_count": null,
      "id": "e07d543f",
      "metadata": {
        "id": "e07d543f"
      },
      "outputs": [],
      "source": [
        "gbest_position=PSO_compre(30,30,host_image,watermark,2,32,32)\n",
        "optimized_locations = gbest_position"
      ]
    },
    {
      "cell_type": "code",
      "execution_count": null,
      "id": "aa2e5959",
      "metadata": {
        "id": "aa2e5959"
      },
      "outputs": [],
      "source": [
        "watermarked_img=embedding_svd(host_image,watermark,optimized_locations,bsize)\n",
        "mse,psnr = mse_psnr(host_image, watermarked_img)\n",
        "score,diff = structural_similarity(host_image.astype('uint8'), watermarked_img('uint8'),full=True)\n",
        "#Salt and pepper noise\n",
        "sapn01=add_salt_and_pepper_noise(watermarked_img,0.01,0.01)\n",
        "sapn001=add_salt_and_pepper_noise(watermarked_img,0.001,0.001)\n",
        "sapn0001=add_salt_and_pepper_noise(watermarked_img,0.0001,0.0001)\n",
        "#Gaussian noise\n",
        "gaun1=gaussian_noise(watermarked_img,0,0.1)\n",
        "gaun01=gaussian_noise(watermarked_img,0,0.01)\n",
        "gaun05=gaussian_noise(watermarked_img,0,0.05)\n",
        "#Speckle noise\n",
        "spec1=speckle_noise(watermarked_img,0,0.1)\n",
        "spec01=speckle_noise(watermarked_img,0,0.01)\n",
        "spec05=speckle_noise(watermarked_img,0,0.05)\n",
        "#Uniform Noise\n",
        "un01=uniform_noise(watermarked_img,0.01)\n",
        "#Side Crop\n",
        "scrlu=side_crop_leftup(watermarked_img,200)\n",
        "scrlb=side_crop_leftbot(watermarked_img,200)\n",
        "scrru=side_crop_rightup(watermarked_img,200)\n",
        "scrrb=side_crop_rightbot(watermarked_img,200)\n",
        "#Center Crop\n",
        "cc100=center_crop(watermarked_img,100)\n",
        "cc200=center_crop(watermarked_img,200)\n",
        "cc300=center_crop(watermarked_img,300)\n",
        "cc256=center_crop(watermarked_img,256)\n",
        "#Average Filter\n",
        "ave_blurred=average_filter(watermarked_img,(3,3))\n",
        "#Gaussin filter\n",
        "gauss3=gaussian_filter(watermarked_img,sigma=0.3,mode='nearest')\n",
        "gauss5=gaussian_filter(watermarked_img,sigma=0.6,mode='nearest')\n",
        "#Median blur\n",
        "medf=median_filter(watermarked_img,size=3)\n",
        "#Sharpening\n",
        "sharp=sharpen_image(watermarked_img)\n",
        "#laplacian sharpning\n",
        "laplacian = cv2.Laplacian(watermarked_img, cv2.CV_64F)\n",
        "sharp_lap = cv2.convertScaleAbs(watermarked_img - laplacian)\n",
        "#jpeg\n",
        "cv2.imwrite('./exp/test100.jpg',watermarked_img,[cv2.IMWRITE_JPEG_QUALITY, 100])\n",
        "jpg_stego100=cv2.imread('./exp/test100.jpg',0)\n",
        "cv2.imwrite('./exp/test90.jpg',watermarked_img,[cv2.IMWRITE_JPEG_QUALITY, 90])\n",
        "jpg_stego90=cv2.imread('./exp/test90.jpg',0)\n",
        "#Histogram Equalization\n",
        "hist_equ=cv2.equalizeHist(watermarked_img.astype('uint8'))\n",
        "#Translation\n",
        "tr=translate_image(watermarked_img,tx=50, ty=50)\n",
        "rev_tr=translate_image(tr,tx=-50, ty=-50)\n",
        "rev_tr_final=inpaint_black_corners(rev_tr.astype('uint8'))\n",
        "#Motion Blur\n",
        "blurred_image = apply_motion_blur(watermarked_img, kernel_size=5, angle=0)\n",
        "m_blurred=gaussian_filter(blurred_image,sigma=0.3,mode='nearest')"
      ]
    },
    {
      "cell_type": "code",
      "execution_count": null,
      "id": "cbd703f7",
      "metadata": {
        "id": "cbd703f7"
      },
      "outputs": [],
      "source": [
        "imgs=[]\n",
        "imgs.append(watermarked_img)\n",
        "imgs.append(sapn01)\n",
        "imgs.append(sapn001)\n",
        "imgs.append(sapn0001)\n",
        "imgs.append(gaun1)\n",
        "imgs.append(gaun01)\n",
        "imgs.append(gaun05)\n",
        "imgs.append(spec1)\n",
        "imgs.append(spec01)\n",
        "imgs.append(spec05)\n",
        "imgs.append(un01)\n",
        "imgs.append(scrlu)\n",
        "imgs.append(scrlb)\n",
        "imgs.append(scrru)\n",
        "imgs.append(scrrb)\n",
        "imgs.append(cc100)\n",
        "imgs.append(cc200)\n",
        "imgs.append(cc256)\n",
        "imgs.append(cc300)\n",
        "imgs.append(ave_blurred)\n",
        "imgs.append(gauss3)\n",
        "imgs.append(gauss5)\n",
        "imgs.append(medf)\n",
        "imgs.append(sharp)\n",
        "imgs.append(sharp_lap)\n",
        "imgs.append(jpg_stego100)\n",
        "imgs.append(jpg_stego90)\n",
        "imgs.append(hist_equ)\n",
        "imgs.append(rev_tr_final)\n",
        "imgs.append(m_blurred)"
      ]
    },
    {
      "cell_type": "code",
      "execution_count": null,
      "id": "5b5a9a90",
      "metadata": {
        "id": "5b5a9a90"
      },
      "outputs": [],
      "source": [
        "psnrs=[]\n",
        "for wimg in imgs:\n",
        "    mse,psnr = mse_psnr(host_image, wimg)\n",
        "    psnrs.append(round(psnr,3))\n",
        "    print(round(psnr,3))"
      ]
    },
    {
      "cell_type": "code",
      "execution_count": null,
      "id": "fb4f62cf",
      "metadata": {
        "id": "fb4f62cf"
      },
      "outputs": [],
      "source": [
        "#Recover original wateramrk image\n",
        "corr_msg=removeerror(watermark,4)\n",
        "ex_wm=bits_to_image(corr_msg,r,c)\n",
        "imglist=Chatoticiteration(ex_wm,ex_wm.shape[0],14)\n",
        "w0=imglist[14].copy()\n",
        "\n",
        "wm_imgs=[]\n",
        "rob_list=[]\n",
        "for wimg in imgs:\n",
        "    wm=extraction_sdv(wimg,optimized_locations,2,32,32)\n",
        "    rob=normalized_cross_correlation(w0,wm)\n",
        "    wm_imgs.append(wm)\n",
        "    rob_list.append(round(rob,3))"
      ]
    },
    {
      "cell_type": "code",
      "execution_count": null,
      "id": "18ccdce8",
      "metadata": {
        "id": "18ccdce8"
      },
      "outputs": [],
      "source": [
        "print('PSNR={0} dB'.format(psnrs[0]))\n",
        "for i in range(len(rob_list)):\n",
        "    print(\"Attack No :{0}, ({1}) NCC={2} \".format(i+1,attacks[i],rob_list[i]))"
      ]
    },
    {
      "cell_type": "code",
      "execution_count": null,
      "id": "6ee73160",
      "metadata": {
        "id": "6ee73160"
      },
      "outputs": [],
      "source": [
        "spec001=speckle_noise(watermarked_img,0,0.001)\n",
        "wm=extraction_sdv(spec001,optimized_locations,2,32,32)\n",
        "rob=normalized_cross_correlation(w0,wm)\n",
        "print(\"Speckle 0.001\",rob)"
      ]
    },
    {
      "cell_type": "code",
      "execution_count": null,
      "id": "5934e5fd",
      "metadata": {
        "id": "5934e5fd"
      },
      "outputs": [],
      "source": [
        "ccr50=center_crop(watermarked_img,50)\n",
        "wm=extraction_sdv(ccr50,optimized_locations,2,32,32)\n",
        "rob=normalized_cross_correlation(w0,wm)\n",
        "print(\"Center crop 50\",rob)"
      ]
    },
    {
      "cell_type": "code",
      "execution_count": null,
      "id": "0a9c6562",
      "metadata": {
        "id": "0a9c6562"
      },
      "outputs": [],
      "source": [
        "cap_attack=[]\n",
        "for i in range(len(attacks)):\n",
        "    new_cap=attacks[i]+\": (\"+str(psnrs[i])+\"dB)\"\n",
        "    cap_attack.append(new_cap)\n",
        "displayimages(imgs,cap_attack)"
      ]
    },
    {
      "cell_type": "code",
      "execution_count": null,
      "id": "fad06c81",
      "metadata": {
        "id": "fad06c81"
      },
      "outputs": [],
      "source": [
        "cap_attack=[]\n",
        "for i in range(len(attacks)):\n",
        "    new_cap=attacks[i]+\": (\"+str(round(rob_list[i],3))+\")\"\n",
        "    cap_attack.append(new_cap)\n",
        "displayimages(wm_imgs,cap_attack)"
      ]
    },
    {
      "cell_type": "code",
      "execution_count": null,
      "id": "b718c93b",
      "metadata": {
        "id": "b718c93b"
      },
      "outputs": [],
      "source": []
    },
    {
      "cell_type": "code",
      "execution_count": null,
      "id": "d4c1cb14",
      "metadata": {
        "id": "d4c1cb14"
      },
      "outputs": [],
      "source": []
    }
  ],
  "metadata": {
    "kernelspec": {
      "display_name": "Python 3",
      "name": "python3"
    },
    "language_info": {
      "codemirror_mode": {
        "name": "ipython",
        "version": 3
      },
      "file_extension": ".py",
      "mimetype": "text/x-python",
      "name": "python",
      "nbconvert_exporter": "python",
      "pygments_lexer": "ipython3",
      "version": "3.9.12"
    },
    "colab": {
      "provenance": [],
      "gpuType": "T4",
      "include_colab_link": true
    },
    "accelerator": "GPU"
  },
  "nbformat": 4,
  "nbformat_minor": 5
}